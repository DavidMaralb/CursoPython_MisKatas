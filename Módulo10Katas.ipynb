{
  "cells": [
    {
      "cell_type": "markdown",
      "metadata": {},
      "source": [
        "# Ejercicio: Intenta crear un archivo de Python y asígnale el nombre open.py, con el contenido siguiente:"
      ]
    },
    {
      "cell_type": "code",
      "execution_count": 1,
      "metadata": {},
      "outputs": [
        {
          "ename": "FileNotFoundError",
          "evalue": "[Errno 2] No such file or directory: '/path/to/mars.jpg'",
          "output_type": "error",
          "traceback": [
            "\u001b[1;31m---------------------------------------------------------------------------\u001b[0m",
            "\u001b[1;31mFileNotFoundError\u001b[0m                         Traceback (most recent call last)",
            "\u001b[1;32mf:\\Dev\\LaunchX\\CursoIntroPython\\MisKatas\\Módulo10Katas.ipynb Cell 2'\u001b[0m in \u001b[0;36m<module>\u001b[1;34m\u001b[0m\n\u001b[0;32m      <a href='vscode-notebook-cell:/f%3A/Dev/LaunchX/CursoIntroPython/MisKatas/M%C3%B3dulo10Katas.ipynb#ch0000029?line=0'>1</a>\u001b[0m \u001b[39mdef\u001b[39;00m \u001b[39mmain\u001b[39m():\n\u001b[0;32m      <a href='vscode-notebook-cell:/f%3A/Dev/LaunchX/CursoIntroPython/MisKatas/M%C3%B3dulo10Katas.ipynb#ch0000029?line=1'>2</a>\u001b[0m     \u001b[39mopen\u001b[39m(\u001b[39m\"\u001b[39m\u001b[39m/path/to/mars.jpg\u001b[39m\u001b[39m\"\u001b[39m)\n\u001b[1;32m----> <a href='vscode-notebook-cell:/f%3A/Dev/LaunchX/CursoIntroPython/MisKatas/M%C3%B3dulo10Katas.ipynb#ch0000029?line=3'>4</a>\u001b[0m main()\n",
            "\u001b[1;32mf:\\Dev\\LaunchX\\CursoIntroPython\\MisKatas\\Módulo10Katas.ipynb Cell 2'\u001b[0m in \u001b[0;36mmain\u001b[1;34m()\u001b[0m\n\u001b[0;32m      <a href='vscode-notebook-cell:/f%3A/Dev/LaunchX/CursoIntroPython/MisKatas/M%C3%B3dulo10Katas.ipynb#ch0000029?line=0'>1</a>\u001b[0m \u001b[39mdef\u001b[39;00m \u001b[39mmain\u001b[39m():\n\u001b[1;32m----> <a href='vscode-notebook-cell:/f%3A/Dev/LaunchX/CursoIntroPython/MisKatas/M%C3%B3dulo10Katas.ipynb#ch0000029?line=1'>2</a>\u001b[0m     \u001b[39mopen\u001b[39;49m(\u001b[39m\"\u001b[39;49m\u001b[39m/path/to/mars.jpg\u001b[39;49m\u001b[39m\"\u001b[39;49m)\n",
            "\u001b[1;31mFileNotFoundError\u001b[0m: [Errno 2] No such file or directory: '/path/to/mars.jpg'"
          ]
        }
      ],
      "source": [
        "def main():\n",
        "    open(\"/path/to/mars.jpg\")\n",
        "\n",
        "main()"
      ]
    },
    {
      "cell_type": "markdown",
      "metadata": {},
      "source": [
        "Try y Except de los bloques"
      ]
    },
    {
      "cell_type": "code",
      "execution_count": 2,
      "metadata": {},
      "outputs": [
        {
          "name": "stdout",
          "output_type": "stream",
          "text": [
            "File not found!\n"
          ]
        }
      ],
      "source": [
        "def main():\n",
        "    try:\n",
        "        open(\"/path/to/mars.jpg\")\n",
        "    except FileNotFoundError:\n",
        "        print('File not found!')\n",
        "\n",
        "main()"
      ]
    },
    {
      "cell_type": "code",
      "execution_count": 3,
      "metadata": {},
      "outputs": [
        {
          "name": "stdout",
          "output_type": "stream",
          "text": [
            "Error: File not found!\n"
          ]
        }
      ],
      "source": [
        "def main():\n",
        "    try:\n",
        "        open(\"/path/to/mars.jpg\")\n",
        "    except FileNotFoundError:\n",
        "        print('Error: File not found!')\n",
        "    except IsADirectoryError:\n",
        "        print(\"Error: The config.txt is a directory!\")\n",
        "main()"
      ]
    },
    {
      "cell_type": "code",
      "execution_count": 4,
      "metadata": {},
      "outputs": [
        {
          "name": "stdout",
          "output_type": "stream",
          "text": [
            "Error: File not found!\n"
          ]
        }
      ],
      "source": [
        "def main():\n",
        "    try:\n",
        "        open(\"/path/to/mars.jpg\")\n",
        "    except FileNotFoundError:\n",
        "        print('Error: File not found!')\n",
        "    except IsADirectoryError:\n",
        "        print(\"Error: The config.txt is a directory!\")\n",
        "    except (BlockingIOError, TimeoutError):\n",
        "        print(\"Error: Timeout error during the read file process!\")\n",
        "main()"
      ]
    },
    {
      "cell_type": "code",
      "execution_count": 5,
      "metadata": {},
      "outputs": [
        {
          "name": "stdout",
          "output_type": "stream",
          "text": [
            "Error: File not found!\n"
          ]
        }
      ],
      "source": [
        "def main():\n",
        "    try:\n",
        "        open(\"/path/to/mars.jpg\")\n",
        "    except OSError as exceptError:\n",
        "        if exceptError.errno == 2:\n",
        "            print('Error: File not found!')\n",
        "        elif exceptError.errno == 13:\n",
        "            print(\"Error: Timeout error during the read file process!\")\n",
        "        else:\n",
        "            print(\"Error: It was not posible open the cofiguration file!\")\n",
        "main()"
      ]
    }
  ],
  "metadata": {
    "interpreter": {
      "hash": "205095b8b86ea82a021a8fc2ffba2b3bc9f8d0be25999901963b225939f75778"
    },
    "kernelspec": {
      "display_name": "Python 3.8.10 64-bit ('tmp': conda)",
      "name": "python3"
    },
    "language_info": {
      "codemirror_mode": {
        "name": "ipython",
        "version": 3
      },
      "file_extension": ".py",
      "mimetype": "text/x-python",
      "name": "python",
      "nbconvert_exporter": "python",
      "pygments_lexer": "ipython3",
      "version": "3.9.10"
    },
    "nteract": {
      "version": "nteract-front-end@1.0.0"
    },
    "orig_nbformat": 4
  },
  "nbformat": 4,
  "nbformat_minor": 2
}
